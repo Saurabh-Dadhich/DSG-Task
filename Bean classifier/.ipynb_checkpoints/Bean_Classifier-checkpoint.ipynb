{
 "cells": [
  {
   "cell_type": "markdown",
   "id": "sharp-poetry",
   "metadata": {},
   "source": [
    "## Saurabh Dadhich\n",
    "### Indian Institute of Technology, Roorkee"
   ]
  },
  {
   "cell_type": "markdown",
   "id": "editorial-warner",
   "metadata": {},
   "source": [
    "## Multi-Class dry bean classification: "
   ]
  },
  {
   "cell_type": "markdown",
   "id": "colonial-variation",
   "metadata": {},
   "source": [
    "### Importing Packages: "
   ]
  },
  {
   "cell_type": "code",
   "execution_count": 1,
   "id": "partial-patrol",
   "metadata": {},
   "outputs": [
    {
     "name": "stderr",
     "output_type": "stream",
     "text": [
      "Using TensorFlow backend.\n"
     ]
    }
   ],
   "source": [
    "import numpy as np\n",
    "import pandas as pd\n",
    "import matplotlib.pyplot as plt\n",
    "from keras.models import Sequential, Model\n",
    "from keras.layers import Activation, Dense, Dropout\n",
    "from keras.layers import InputLayer,BatchNormalization\n",
    "from keras.optimizers import Adam\n",
    "from sklearn.preprocessing import LabelBinarizer\n",
    "from keras.utils import np_utils\n",
    "from keras.utils import to_categorical\n",
    "from sklearn.model_selection import train_test_split\n",
    "from sklearn.preprocessing import StandardScaler"
   ]
  },
  {
   "cell_type": "markdown",
   "id": "pleased-forwarding",
   "metadata": {},
   "source": [
    "### Loading data: "
   ]
  },
  {
   "cell_type": "code",
   "execution_count": 2,
   "id": "unnecessary-split",
   "metadata": {},
   "outputs": [
    {
     "name": "stdout",
     "output_type": "stream",
     "text": [
      "Shape of database:  (13611, 17)\n"
     ]
    }
   ],
   "source": [
    "database = pd.read_excel(r\"Dry_Bean_Dataset.xlsx\") \n",
    "print(\"Shape of database: \",database.shape)"
   ]
  },
  {
   "cell_type": "markdown",
   "id": "charitable-monte",
   "metadata": {},
   "source": [
    "### Understanding database: "
   ]
  },
  {
   "cell_type": "code",
   "execution_count": 3,
   "id": "considered-mount",
   "metadata": {},
   "outputs": [
    {
     "name": "stdout",
     "output_type": "stream",
     "text": [
      "Index(['Area', 'Perimeter', 'MajorAxisLength', 'MinorAxisLength',\n",
      "       'AspectRation', 'Eccentricity', 'ConvexArea', 'EquivDiameter', 'Extent',\n",
      "       'Solidity', 'roundness', 'Compactness', 'ShapeFactor1', 'ShapeFactor2',\n",
      "       'ShapeFactor3', 'ShapeFactor4', 'Class'],\n",
      "      dtype='object') \n",
      "\n",
      "Area               0\n",
      "Perimeter          0\n",
      "MajorAxisLength    0\n",
      "MinorAxisLength    0\n",
      "AspectRation       0\n",
      "Eccentricity       0\n",
      "ConvexArea         0\n",
      "EquivDiameter      0\n",
      "Extent             0\n",
      "Solidity           0\n",
      "roundness          0\n",
      "Compactness        0\n",
      "ShapeFactor1       0\n",
      "ShapeFactor2       0\n",
      "ShapeFactor3       0\n",
      "ShapeFactor4       0\n",
      "Class              0\n",
      "dtype: int64\n"
     ]
    }
   ],
   "source": [
    "print(database.columns,'\\n')\n",
    "print(database.isnull().sum())"
   ]
  },
  {
   "cell_type": "code",
   "execution_count": 4,
   "id": "documentary-western",
   "metadata": {},
   "outputs": [
    {
     "data": {
      "text/html": [
       "<div>\n",
       "<style scoped>\n",
       "    .dataframe tbody tr th:only-of-type {\n",
       "        vertical-align: middle;\n",
       "    }\n",
       "\n",
       "    .dataframe tbody tr th {\n",
       "        vertical-align: top;\n",
       "    }\n",
       "\n",
       "    .dataframe thead th {\n",
       "        text-align: right;\n",
       "    }\n",
       "</style>\n",
       "<table border=\"1\" class=\"dataframe\">\n",
       "  <thead>\n",
       "    <tr style=\"text-align: right;\">\n",
       "      <th></th>\n",
       "      <th>Area</th>\n",
       "      <th>Perimeter</th>\n",
       "      <th>MajorAxisLength</th>\n",
       "      <th>MinorAxisLength</th>\n",
       "      <th>AspectRation</th>\n",
       "      <th>Eccentricity</th>\n",
       "      <th>ConvexArea</th>\n",
       "      <th>EquivDiameter</th>\n",
       "      <th>Extent</th>\n",
       "      <th>Solidity</th>\n",
       "      <th>roundness</th>\n",
       "      <th>Compactness</th>\n",
       "      <th>ShapeFactor1</th>\n",
       "      <th>ShapeFactor2</th>\n",
       "      <th>ShapeFactor3</th>\n",
       "      <th>ShapeFactor4</th>\n",
       "    </tr>\n",
       "  </thead>\n",
       "  <tbody>\n",
       "    <tr>\n",
       "      <th>count</th>\n",
       "      <td>13611.000000</td>\n",
       "      <td>13611.000000</td>\n",
       "      <td>13611.000000</td>\n",
       "      <td>13611.000000</td>\n",
       "      <td>13611.000000</td>\n",
       "      <td>13611.000000</td>\n",
       "      <td>13611.000000</td>\n",
       "      <td>13611.000000</td>\n",
       "      <td>13611.000000</td>\n",
       "      <td>13611.000000</td>\n",
       "      <td>13611.000000</td>\n",
       "      <td>13611.000000</td>\n",
       "      <td>13611.000000</td>\n",
       "      <td>13611.000000</td>\n",
       "      <td>13611.000000</td>\n",
       "      <td>13611.000000</td>\n",
       "    </tr>\n",
       "    <tr>\n",
       "      <th>mean</th>\n",
       "      <td>53048.284549</td>\n",
       "      <td>855.283459</td>\n",
       "      <td>320.141867</td>\n",
       "      <td>202.270714</td>\n",
       "      <td>1.583242</td>\n",
       "      <td>0.750895</td>\n",
       "      <td>53768.200206</td>\n",
       "      <td>253.064220</td>\n",
       "      <td>0.749733</td>\n",
       "      <td>0.987143</td>\n",
       "      <td>0.873282</td>\n",
       "      <td>0.799864</td>\n",
       "      <td>0.006564</td>\n",
       "      <td>0.001716</td>\n",
       "      <td>0.643590</td>\n",
       "      <td>0.995063</td>\n",
       "    </tr>\n",
       "    <tr>\n",
       "      <th>std</th>\n",
       "      <td>29324.095717</td>\n",
       "      <td>214.289696</td>\n",
       "      <td>85.694186</td>\n",
       "      <td>44.970091</td>\n",
       "      <td>0.246678</td>\n",
       "      <td>0.092002</td>\n",
       "      <td>29774.915817</td>\n",
       "      <td>59.177120</td>\n",
       "      <td>0.049086</td>\n",
       "      <td>0.004660</td>\n",
       "      <td>0.059520</td>\n",
       "      <td>0.061713</td>\n",
       "      <td>0.001128</td>\n",
       "      <td>0.000596</td>\n",
       "      <td>0.098996</td>\n",
       "      <td>0.004366</td>\n",
       "    </tr>\n",
       "    <tr>\n",
       "      <th>min</th>\n",
       "      <td>20420.000000</td>\n",
       "      <td>524.736000</td>\n",
       "      <td>183.601165</td>\n",
       "      <td>122.512653</td>\n",
       "      <td>1.024868</td>\n",
       "      <td>0.218951</td>\n",
       "      <td>20684.000000</td>\n",
       "      <td>161.243764</td>\n",
       "      <td>0.555315</td>\n",
       "      <td>0.919246</td>\n",
       "      <td>0.489618</td>\n",
       "      <td>0.640577</td>\n",
       "      <td>0.002778</td>\n",
       "      <td>0.000564</td>\n",
       "      <td>0.410339</td>\n",
       "      <td>0.947687</td>\n",
       "    </tr>\n",
       "    <tr>\n",
       "      <th>25%</th>\n",
       "      <td>36328.000000</td>\n",
       "      <td>703.523500</td>\n",
       "      <td>253.303633</td>\n",
       "      <td>175.848170</td>\n",
       "      <td>1.432307</td>\n",
       "      <td>0.715928</td>\n",
       "      <td>36714.500000</td>\n",
       "      <td>215.068003</td>\n",
       "      <td>0.718634</td>\n",
       "      <td>0.985670</td>\n",
       "      <td>0.832096</td>\n",
       "      <td>0.762469</td>\n",
       "      <td>0.005900</td>\n",
       "      <td>0.001154</td>\n",
       "      <td>0.581359</td>\n",
       "      <td>0.993703</td>\n",
       "    </tr>\n",
       "    <tr>\n",
       "      <th>50%</th>\n",
       "      <td>44652.000000</td>\n",
       "      <td>794.941000</td>\n",
       "      <td>296.883367</td>\n",
       "      <td>192.431733</td>\n",
       "      <td>1.551124</td>\n",
       "      <td>0.764441</td>\n",
       "      <td>45178.000000</td>\n",
       "      <td>238.438026</td>\n",
       "      <td>0.759859</td>\n",
       "      <td>0.988283</td>\n",
       "      <td>0.883157</td>\n",
       "      <td>0.801277</td>\n",
       "      <td>0.006645</td>\n",
       "      <td>0.001694</td>\n",
       "      <td>0.642044</td>\n",
       "      <td>0.996386</td>\n",
       "    </tr>\n",
       "    <tr>\n",
       "      <th>75%</th>\n",
       "      <td>61332.000000</td>\n",
       "      <td>977.213000</td>\n",
       "      <td>376.495012</td>\n",
       "      <td>217.031741</td>\n",
       "      <td>1.707109</td>\n",
       "      <td>0.810466</td>\n",
       "      <td>62294.000000</td>\n",
       "      <td>279.446467</td>\n",
       "      <td>0.786851</td>\n",
       "      <td>0.990013</td>\n",
       "      <td>0.916869</td>\n",
       "      <td>0.834270</td>\n",
       "      <td>0.007271</td>\n",
       "      <td>0.002170</td>\n",
       "      <td>0.696006</td>\n",
       "      <td>0.997883</td>\n",
       "    </tr>\n",
       "    <tr>\n",
       "      <th>max</th>\n",
       "      <td>254616.000000</td>\n",
       "      <td>1985.370000</td>\n",
       "      <td>738.860153</td>\n",
       "      <td>460.198497</td>\n",
       "      <td>2.430306</td>\n",
       "      <td>0.911423</td>\n",
       "      <td>263261.000000</td>\n",
       "      <td>569.374358</td>\n",
       "      <td>0.866195</td>\n",
       "      <td>0.994677</td>\n",
       "      <td>0.990685</td>\n",
       "      <td>0.987303</td>\n",
       "      <td>0.010451</td>\n",
       "      <td>0.003665</td>\n",
       "      <td>0.974767</td>\n",
       "      <td>0.999733</td>\n",
       "    </tr>\n",
       "  </tbody>\n",
       "</table>\n",
       "</div>"
      ],
      "text/plain": [
       "                Area     Perimeter  MajorAxisLength  MinorAxisLength  \\\n",
       "count   13611.000000  13611.000000     13611.000000     13611.000000   \n",
       "mean    53048.284549    855.283459       320.141867       202.270714   \n",
       "std     29324.095717    214.289696        85.694186        44.970091   \n",
       "min     20420.000000    524.736000       183.601165       122.512653   \n",
       "25%     36328.000000    703.523500       253.303633       175.848170   \n",
       "50%     44652.000000    794.941000       296.883367       192.431733   \n",
       "75%     61332.000000    977.213000       376.495012       217.031741   \n",
       "max    254616.000000   1985.370000       738.860153       460.198497   \n",
       "\n",
       "       AspectRation  Eccentricity     ConvexArea  EquivDiameter        Extent  \\\n",
       "count  13611.000000  13611.000000   13611.000000   13611.000000  13611.000000   \n",
       "mean       1.583242      0.750895   53768.200206     253.064220      0.749733   \n",
       "std        0.246678      0.092002   29774.915817      59.177120      0.049086   \n",
       "min        1.024868      0.218951   20684.000000     161.243764      0.555315   \n",
       "25%        1.432307      0.715928   36714.500000     215.068003      0.718634   \n",
       "50%        1.551124      0.764441   45178.000000     238.438026      0.759859   \n",
       "75%        1.707109      0.810466   62294.000000     279.446467      0.786851   \n",
       "max        2.430306      0.911423  263261.000000     569.374358      0.866195   \n",
       "\n",
       "           Solidity     roundness   Compactness  ShapeFactor1  ShapeFactor2  \\\n",
       "count  13611.000000  13611.000000  13611.000000  13611.000000  13611.000000   \n",
       "mean       0.987143      0.873282      0.799864      0.006564      0.001716   \n",
       "std        0.004660      0.059520      0.061713      0.001128      0.000596   \n",
       "min        0.919246      0.489618      0.640577      0.002778      0.000564   \n",
       "25%        0.985670      0.832096      0.762469      0.005900      0.001154   \n",
       "50%        0.988283      0.883157      0.801277      0.006645      0.001694   \n",
       "75%        0.990013      0.916869      0.834270      0.007271      0.002170   \n",
       "max        0.994677      0.990685      0.987303      0.010451      0.003665   \n",
       "\n",
       "       ShapeFactor3  ShapeFactor4  \n",
       "count  13611.000000  13611.000000  \n",
       "mean       0.643590      0.995063  \n",
       "std        0.098996      0.004366  \n",
       "min        0.410339      0.947687  \n",
       "25%        0.581359      0.993703  \n",
       "50%        0.642044      0.996386  \n",
       "75%        0.696006      0.997883  \n",
       "max        0.974767      0.999733  "
      ]
     },
     "execution_count": 4,
     "metadata": {},
     "output_type": "execute_result"
    }
   ],
   "source": [
    "database.describe() "
   ]
  },
  {
   "cell_type": "code",
   "execution_count": 5,
   "id": "destroyed-triple",
   "metadata": {},
   "outputs": [
    {
     "data": {
      "text/html": [
       "<div>\n",
       "<style scoped>\n",
       "    .dataframe tbody tr th:only-of-type {\n",
       "        vertical-align: middle;\n",
       "    }\n",
       "\n",
       "    .dataframe tbody tr th {\n",
       "        vertical-align: top;\n",
       "    }\n",
       "\n",
       "    .dataframe thead th {\n",
       "        text-align: right;\n",
       "    }\n",
       "</style>\n",
       "<table border=\"1\" class=\"dataframe\">\n",
       "  <thead>\n",
       "    <tr style=\"text-align: right;\">\n",
       "      <th></th>\n",
       "      <th>Area</th>\n",
       "      <th>Perimeter</th>\n",
       "      <th>MajorAxisLength</th>\n",
       "      <th>MinorAxisLength</th>\n",
       "      <th>AspectRation</th>\n",
       "      <th>Eccentricity</th>\n",
       "      <th>ConvexArea</th>\n",
       "      <th>EquivDiameter</th>\n",
       "      <th>Extent</th>\n",
       "      <th>Solidity</th>\n",
       "      <th>roundness</th>\n",
       "      <th>Compactness</th>\n",
       "      <th>ShapeFactor1</th>\n",
       "      <th>ShapeFactor2</th>\n",
       "      <th>ShapeFactor3</th>\n",
       "      <th>ShapeFactor4</th>\n",
       "      <th>Class</th>\n",
       "    </tr>\n",
       "  </thead>\n",
       "  <tbody>\n",
       "    <tr>\n",
       "      <th>0</th>\n",
       "      <td>28395</td>\n",
       "      <td>610.291</td>\n",
       "      <td>208.178117</td>\n",
       "      <td>173.888747</td>\n",
       "      <td>1.197191</td>\n",
       "      <td>0.549812</td>\n",
       "      <td>28715</td>\n",
       "      <td>190.141097</td>\n",
       "      <td>0.763923</td>\n",
       "      <td>0.988856</td>\n",
       "      <td>0.958027</td>\n",
       "      <td>0.913358</td>\n",
       "      <td>0.007332</td>\n",
       "      <td>0.003147</td>\n",
       "      <td>0.834222</td>\n",
       "      <td>0.998724</td>\n",
       "      <td>SEKER</td>\n",
       "    </tr>\n",
       "    <tr>\n",
       "      <th>1</th>\n",
       "      <td>28734</td>\n",
       "      <td>638.018</td>\n",
       "      <td>200.524796</td>\n",
       "      <td>182.734419</td>\n",
       "      <td>1.097356</td>\n",
       "      <td>0.411785</td>\n",
       "      <td>29172</td>\n",
       "      <td>191.272750</td>\n",
       "      <td>0.783968</td>\n",
       "      <td>0.984986</td>\n",
       "      <td>0.887034</td>\n",
       "      <td>0.953861</td>\n",
       "      <td>0.006979</td>\n",
       "      <td>0.003564</td>\n",
       "      <td>0.909851</td>\n",
       "      <td>0.998430</td>\n",
       "      <td>SEKER</td>\n",
       "    </tr>\n",
       "    <tr>\n",
       "      <th>2</th>\n",
       "      <td>29380</td>\n",
       "      <td>624.110</td>\n",
       "      <td>212.826130</td>\n",
       "      <td>175.931143</td>\n",
       "      <td>1.209713</td>\n",
       "      <td>0.562727</td>\n",
       "      <td>29690</td>\n",
       "      <td>193.410904</td>\n",
       "      <td>0.778113</td>\n",
       "      <td>0.989559</td>\n",
       "      <td>0.947849</td>\n",
       "      <td>0.908774</td>\n",
       "      <td>0.007244</td>\n",
       "      <td>0.003048</td>\n",
       "      <td>0.825871</td>\n",
       "      <td>0.999066</td>\n",
       "      <td>SEKER</td>\n",
       "    </tr>\n",
       "    <tr>\n",
       "      <th>3</th>\n",
       "      <td>30008</td>\n",
       "      <td>645.884</td>\n",
       "      <td>210.557999</td>\n",
       "      <td>182.516516</td>\n",
       "      <td>1.153638</td>\n",
       "      <td>0.498616</td>\n",
       "      <td>30724</td>\n",
       "      <td>195.467062</td>\n",
       "      <td>0.782681</td>\n",
       "      <td>0.976696</td>\n",
       "      <td>0.903936</td>\n",
       "      <td>0.928329</td>\n",
       "      <td>0.007017</td>\n",
       "      <td>0.003215</td>\n",
       "      <td>0.861794</td>\n",
       "      <td>0.994199</td>\n",
       "      <td>SEKER</td>\n",
       "    </tr>\n",
       "    <tr>\n",
       "      <th>4</th>\n",
       "      <td>30140</td>\n",
       "      <td>620.134</td>\n",
       "      <td>201.847882</td>\n",
       "      <td>190.279279</td>\n",
       "      <td>1.060798</td>\n",
       "      <td>0.333680</td>\n",
       "      <td>30417</td>\n",
       "      <td>195.896503</td>\n",
       "      <td>0.773098</td>\n",
       "      <td>0.990893</td>\n",
       "      <td>0.984877</td>\n",
       "      <td>0.970516</td>\n",
       "      <td>0.006697</td>\n",
       "      <td>0.003665</td>\n",
       "      <td>0.941900</td>\n",
       "      <td>0.999166</td>\n",
       "      <td>SEKER</td>\n",
       "    </tr>\n",
       "  </tbody>\n",
       "</table>\n",
       "</div>"
      ],
      "text/plain": [
       "    Area  Perimeter  MajorAxisLength  MinorAxisLength  AspectRation  \\\n",
       "0  28395    610.291       208.178117       173.888747      1.197191   \n",
       "1  28734    638.018       200.524796       182.734419      1.097356   \n",
       "2  29380    624.110       212.826130       175.931143      1.209713   \n",
       "3  30008    645.884       210.557999       182.516516      1.153638   \n",
       "4  30140    620.134       201.847882       190.279279      1.060798   \n",
       "\n",
       "   Eccentricity  ConvexArea  EquivDiameter    Extent  Solidity  roundness  \\\n",
       "0      0.549812       28715     190.141097  0.763923  0.988856   0.958027   \n",
       "1      0.411785       29172     191.272750  0.783968  0.984986   0.887034   \n",
       "2      0.562727       29690     193.410904  0.778113  0.989559   0.947849   \n",
       "3      0.498616       30724     195.467062  0.782681  0.976696   0.903936   \n",
       "4      0.333680       30417     195.896503  0.773098  0.990893   0.984877   \n",
       "\n",
       "   Compactness  ShapeFactor1  ShapeFactor2  ShapeFactor3  ShapeFactor4  Class  \n",
       "0     0.913358      0.007332      0.003147      0.834222      0.998724  SEKER  \n",
       "1     0.953861      0.006979      0.003564      0.909851      0.998430  SEKER  \n",
       "2     0.908774      0.007244      0.003048      0.825871      0.999066  SEKER  \n",
       "3     0.928329      0.007017      0.003215      0.861794      0.994199  SEKER  \n",
       "4     0.970516      0.006697      0.003665      0.941900      0.999166  SEKER  "
      ]
     },
     "execution_count": 5,
     "metadata": {},
     "output_type": "execute_result"
    }
   ],
   "source": [
    "database.head()"
   ]
  },
  {
   "cell_type": "code",
   "execution_count": 6,
   "id": "posted-athletics",
   "metadata": {},
   "outputs": [
    {
     "data": {
      "text/html": [
       "<div>\n",
       "<style scoped>\n",
       "    .dataframe tbody tr th:only-of-type {\n",
       "        vertical-align: middle;\n",
       "    }\n",
       "\n",
       "    .dataframe tbody tr th {\n",
       "        vertical-align: top;\n",
       "    }\n",
       "\n",
       "    .dataframe thead th {\n",
       "        text-align: right;\n",
       "    }\n",
       "</style>\n",
       "<table border=\"1\" class=\"dataframe\">\n",
       "  <thead>\n",
       "    <tr style=\"text-align: right;\">\n",
       "      <th></th>\n",
       "      <th>Area</th>\n",
       "      <th>Perimeter</th>\n",
       "      <th>MajorAxisLength</th>\n",
       "      <th>MinorAxisLength</th>\n",
       "      <th>AspectRation</th>\n",
       "      <th>Eccentricity</th>\n",
       "      <th>ConvexArea</th>\n",
       "      <th>EquivDiameter</th>\n",
       "      <th>Extent</th>\n",
       "      <th>Solidity</th>\n",
       "      <th>roundness</th>\n",
       "      <th>Compactness</th>\n",
       "      <th>ShapeFactor1</th>\n",
       "      <th>ShapeFactor2</th>\n",
       "      <th>ShapeFactor3</th>\n",
       "      <th>ShapeFactor4</th>\n",
       "      <th>Class</th>\n",
       "    </tr>\n",
       "  </thead>\n",
       "  <tbody>\n",
       "    <tr>\n",
       "      <th>0</th>\n",
       "      <td>35972</td>\n",
       "      <td>685.989</td>\n",
       "      <td>233.492969</td>\n",
       "      <td>196.292212</td>\n",
       "      <td>1.189517</td>\n",
       "      <td>0.541537</td>\n",
       "      <td>36336</td>\n",
       "      <td>214.011619</td>\n",
       "      <td>0.761570</td>\n",
       "      <td>0.989982</td>\n",
       "      <td>0.960595</td>\n",
       "      <td>0.916566</td>\n",
       "      <td>0.006491</td>\n",
       "      <td>0.002826</td>\n",
       "      <td>0.840092</td>\n",
       "      <td>0.999304</td>\n",
       "      <td>SEKER</td>\n",
       "    </tr>\n",
       "    <tr>\n",
       "      <th>1</th>\n",
       "      <td>64652</td>\n",
       "      <td>978.747</td>\n",
       "      <td>376.212800</td>\n",
       "      <td>219.293761</td>\n",
       "      <td>1.715565</td>\n",
       "      <td>0.812545</td>\n",
       "      <td>65266</td>\n",
       "      <td>286.910235</td>\n",
       "      <td>0.792965</td>\n",
       "      <td>0.990592</td>\n",
       "      <td>0.848108</td>\n",
       "      <td>0.762628</td>\n",
       "      <td>0.005819</td>\n",
       "      <td>0.001214</td>\n",
       "      <td>0.581601</td>\n",
       "      <td>0.997774</td>\n",
       "      <td>CALI</td>\n",
       "    </tr>\n",
       "    <tr>\n",
       "      <th>2</th>\n",
       "      <td>79319</td>\n",
       "      <td>1078.159</td>\n",
       "      <td>420.141999</td>\n",
       "      <td>242.072247</td>\n",
       "      <td>1.735606</td>\n",
       "      <td>0.817332</td>\n",
       "      <td>80092</td>\n",
       "      <td>317.792523</td>\n",
       "      <td>0.738401</td>\n",
       "      <td>0.990349</td>\n",
       "      <td>0.857475</td>\n",
       "      <td>0.756393</td>\n",
       "      <td>0.005297</td>\n",
       "      <td>0.001070</td>\n",
       "      <td>0.572131</td>\n",
       "      <td>0.992993</td>\n",
       "      <td>CALI</td>\n",
       "    </tr>\n",
       "    <tr>\n",
       "      <th>3</th>\n",
       "      <td>94276</td>\n",
       "      <td>1160.889</td>\n",
       "      <td>445.584193</td>\n",
       "      <td>271.786544</td>\n",
       "      <td>1.639464</td>\n",
       "      <td>0.792436</td>\n",
       "      <td>95109</td>\n",
       "      <td>346.462020</td>\n",
       "      <td>0.827200</td>\n",
       "      <td>0.991242</td>\n",
       "      <td>0.879082</td>\n",
       "      <td>0.777546</td>\n",
       "      <td>0.004726</td>\n",
       "      <td>0.001066</td>\n",
       "      <td>0.604577</td>\n",
       "      <td>0.991182</td>\n",
       "      <td>CALI</td>\n",
       "    </tr>\n",
       "    <tr>\n",
       "      <th>4</th>\n",
       "      <td>79866</td>\n",
       "      <td>1106.470</td>\n",
       "      <td>430.939924</td>\n",
       "      <td>239.504320</td>\n",
       "      <td>1.799299</td>\n",
       "      <td>0.831335</td>\n",
       "      <td>81633</td>\n",
       "      <td>318.886421</td>\n",
       "      <td>0.787649</td>\n",
       "      <td>0.978354</td>\n",
       "      <td>0.819771</td>\n",
       "      <td>0.739979</td>\n",
       "      <td>0.005396</td>\n",
       "      <td>0.000998</td>\n",
       "      <td>0.547569</td>\n",
       "      <td>0.985240</td>\n",
       "      <td>CALI</td>\n",
       "    </tr>\n",
       "  </tbody>\n",
       "</table>\n",
       "</div>"
      ],
      "text/plain": [
       "    Area  Perimeter  MajorAxisLength  MinorAxisLength  AspectRation  \\\n",
       "0  35972    685.989       233.492969       196.292212      1.189517   \n",
       "1  64652    978.747       376.212800       219.293761      1.715565   \n",
       "2  79319   1078.159       420.141999       242.072247      1.735606   \n",
       "3  94276   1160.889       445.584193       271.786544      1.639464   \n",
       "4  79866   1106.470       430.939924       239.504320      1.799299   \n",
       "\n",
       "   Eccentricity  ConvexArea  EquivDiameter    Extent  Solidity  roundness  \\\n",
       "0      0.541537       36336     214.011619  0.761570  0.989982   0.960595   \n",
       "1      0.812545       65266     286.910235  0.792965  0.990592   0.848108   \n",
       "2      0.817332       80092     317.792523  0.738401  0.990349   0.857475   \n",
       "3      0.792436       95109     346.462020  0.827200  0.991242   0.879082   \n",
       "4      0.831335       81633     318.886421  0.787649  0.978354   0.819771   \n",
       "\n",
       "   Compactness  ShapeFactor1  ShapeFactor2  ShapeFactor3  ShapeFactor4  Class  \n",
       "0     0.916566      0.006491      0.002826      0.840092      0.999304  SEKER  \n",
       "1     0.762628      0.005819      0.001214      0.581601      0.997774   CALI  \n",
       "2     0.756393      0.005297      0.001070      0.572131      0.992993   CALI  \n",
       "3     0.777546      0.004726      0.001066      0.604577      0.991182   CALI  \n",
       "4     0.739979      0.005396      0.000998      0.547569      0.985240   CALI  "
      ]
     },
     "execution_count": 6,
     "metadata": {},
     "output_type": "execute_result"
    }
   ],
   "source": [
    "# Shuffling dataframe:\n",
    "database = database.sample(frac=1).reset_index(drop=True) \n",
    "# drop=True prevents reset_index from creating a column containing the old index entries.\n",
    "database.head()"
   ]
  },
  {
   "cell_type": "markdown",
   "id": "hired-fusion",
   "metadata": {},
   "source": [
    "### Classes Distribution:"
   ]
  },
  {
   "cell_type": "code",
   "execution_count": 50,
   "id": "wicked-amateur",
   "metadata": {},
   "outputs": [
    {
     "name": "stdout",
     "output_type": "stream",
     "text": [
      "Classes count:\n",
      "DERMASON    3546\n",
      "SIRA        2636\n",
      "SEKER       2027\n",
      "HOROZ       1928\n",
      "CALI        1630\n",
      "BARBUNYA    1322\n",
      "BOMBAY       522\n",
      "Name: Class, dtype: int64\n"
     ]
    },
    {
     "data": {
      "image/png": "[encoded data removed]",
      "text/plain": [
       "<Figure size 432x288 with 1 Axes>"
      ]
     },
     "metadata": {},
     "output_type": "display_data"
    }
   ],
   "source": [
    "classes_count = database['Class'].value_counts()           # return series \n",
    "print('Classes count:')\n",
    "print(classes_count)\n",
    "fig = plt.figure()\n",
    "ax = fig.add_axes([0,0,1,1])\n",
    "ax.bar(classes_count.index,classes_count)\n",
    "plt.show()"
   ]
  },
  {
   "cell_type": "code",
   "execution_count": 7,
   "id": "proof-mineral",
   "metadata": {},
   "outputs": [],
   "source": [
    "data_Y = database['Class'].copy()\n",
    "data_X = database.drop('Class',axis = 1)   # return numpy"
   ]
  },
  {
   "cell_type": "markdown",
   "id": "periodic-event",
   "metadata": {},
   "source": [
    "### One hot encoding: "
   ]
  },
  {
   "cell_type": "code",
   "execution_count": 8,
   "id": "accessible-covering",
   "metadata": {},
   "outputs": [
    {
     "name": "stdout",
     "output_type": "stream",
     "text": [
      "(13611, 7)\n"
     ]
    }
   ],
   "source": [
    "lb = LabelBinarizer() \n",
    "data_Y = lb.fit_transform(data_Y)                 # return numpy array by default\n",
    "print(data_Y.shape)   "
   ]
  },
  {
   "cell_type": "code",
   "execution_count": 9,
   "id": "curious-throat",
   "metadata": {},
   "outputs": [
    {
     "name": "stdout",
     "output_type": "stream",
     "text": [
      "[[0 0 0 0 0 1 0]\n",
      " [0 0 1 0 0 0 0]\n",
      " [0 0 1 0 0 0 0]\n",
      " [0 0 1 0 0 0 0]\n",
      " [0 0 1 0 0 0 0]]\n"
     ]
    }
   ],
   "source": [
    "print(data_Y[0:5])"
   ]
  },
  {
   "cell_type": "markdown",
   "id": "vertical-armenia",
   "metadata": {},
   "source": [
    "### Train Test split: "
   ]
  },
  {
   "cell_type": "code",
   "execution_count": 10,
   "id": "corrected-rebel",
   "metadata": {},
   "outputs": [],
   "source": [
    "(train_X, test_X, train_Y, test_Y) = train_test_split(data_X,data_Y,test_size=0.20,shuffle=True,stratify=data_Y, random_state=42)"
   ]
  },
  {
   "cell_type": "code",
   "execution_count": 11,
   "id": "leading-center",
   "metadata": {},
   "outputs": [
    {
     "name": "stdout",
     "output_type": "stream",
     "text": [
      "Shape of train_X:  (10888, 16)\n",
      "Shape of train_Y:  (10888, 7)\n",
      "Shape of test_X:  (2723, 16)\n",
      "Shape of test_Y:  (2723, 7)\n"
     ]
    }
   ],
   "source": [
    "print(\"Shape of train_X: \", train_X.shape)\n",
    "print(\"Shape of train_Y: \", train_Y.shape)\n",
    "print(\"Shape of test_X: \", test_X.shape)\n",
    "print(\"Shape of test_Y: \", test_Y.shape)"
   ]
  },
  {
   "cell_type": "markdown",
   "id": "internal-chester",
   "metadata": {},
   "source": [
    "### Scaling and Normalization Data: "
   ]
  },
  {
   "cell_type": "code",
   "execution_count": 12,
   "id": "ecological-advocate",
   "metadata": {},
   "outputs": [],
   "source": [
    "scaler = StandardScaler()\n",
    "train_X = scaler.inverse_transform(scaler.fit_transform(train_X)) \n",
    "test_X = scaler.inverse_transform(scaler.fit_transform(test_X)) "
   ]
  },
  {
   "cell_type": "code",
   "execution_count": 13,
   "id": "proved-convert",
   "metadata": {},
   "outputs": [
    {
     "name": "stdout",
     "output_type": "stream",
     "text": [
      "(10888, 16) (2723, 16)\n"
     ]
    }
   ],
   "source": [
    "print(train_X.shape, test_X.shape) "
   ]
  },
  {
   "cell_type": "markdown",
   "id": "divided-light",
   "metadata": {},
   "source": [
    "### Model Architecture: "
   ]
  },
  {
   "cell_type": "code",
   "execution_count": 27,
   "id": "tight-marker",
   "metadata": {},
   "outputs": [
    {
     "name": "stdout",
     "output_type": "stream",
     "text": [
      "Model: \"sequential_2\"\n",
      "_________________________________________________________________\n",
      "Layer (type)                 Output Shape              Param #   \n",
      "=================================================================\n",
      "dense_8 (Dense)              (None, 256)               4352      \n",
      "_________________________________________________________________\n",
      "batch_normalization_7 (Batch (None, 256)               1024      \n",
      "_________________________________________________________________\n",
      "activation_7 (Activation)    (None, 256)               0         \n",
      "_________________________________________________________________\n",
      "dropout_6 (Dropout)          (None, 256)               0         \n",
      "_________________________________________________________________\n",
      "dense_9 (Dense)              (None, 256)               65792     \n",
      "_________________________________________________________________\n",
      "batch_normalization_8 (Batch (None, 256)               1024      \n",
      "_________________________________________________________________\n",
      "activation_8 (Activation)    (None, 256)               0         \n",
      "_________________________________________________________________\n",
      "dropout_7 (Dropout)          (None, 256)               0         \n",
      "_________________________________________________________________\n",
      "dense_10 (Dense)             (None, 128)               32896     \n",
      "_________________________________________________________________\n",
      "batch_normalization_9 (Batch (None, 128)               512       \n",
      "_________________________________________________________________\n",
      "activation_9 (Activation)    (None, 128)               0         \n",
      "_________________________________________________________________\n",
      "dropout_8 (Dropout)          (None, 128)               0         \n",
      "_________________________________________________________________\n",
      "dense_11 (Dense)             (None, 64)                8256      \n",
      "_________________________________________________________________\n",
      "batch_normalization_10 (Batc (None, 64)                256       \n",
      "_________________________________________________________________\n",
      "activation_10 (Activation)   (None, 64)                0         \n",
      "_________________________________________________________________\n",
      "dropout_9 (Dropout)          (None, 64)                0         \n",
      "_________________________________________________________________\n",
      "dense_12 (Dense)             (None, 32)                2080      \n",
      "_________________________________________________________________\n",
      "batch_normalization_11 (Batc (None, 32)                128       \n",
      "_________________________________________________________________\n",
      "activation_11 (Activation)   (None, 32)                0         \n",
      "_________________________________________________________________\n",
      "dropout_10 (Dropout)         (None, 32)                0         \n",
      "_________________________________________________________________\n",
      "dense_13 (Dense)             (None, 16)                528       \n",
      "_________________________________________________________________\n",
      "batch_normalization_12 (Batc (None, 16)                64        \n",
      "_________________________________________________________________\n",
      "activation_12 (Activation)   (None, 16)                0         \n",
      "_________________________________________________________________\n",
      "dropout_11 (Dropout)         (None, 16)                0         \n",
      "_________________________________________________________________\n",
      "dense_14 (Dense)             (None, 7)                 119       \n",
      "=================================================================\n",
      "Total params: 117,031\n",
      "Trainable params: 115,527\n",
      "Non-trainable params: 1,504\n",
      "_________________________________________________________________\n"
     ]
    }
   ],
   "source": [
    "model = Sequential()\n",
    "model.add(InputLayer(input_shape=(16,)))  \n",
    "model.add(Dense(256))\n",
    "model.add(BatchNormalization())  \n",
    "model.add(Activation('relu'))\n",
    "model.add(Dropout(0.3))  \n",
    "model.add(Dense(256))\n",
    "model.add(BatchNormalization())\n",
    "model.add(Activation('relu'))\n",
    "model.add(Dropout(0.4))  \n",
    "model.add(Dense(128))\n",
    "model.add(BatchNormalization())\n",
    "model.add(Activation('relu')) \n",
    "model.add(Dropout(0.3)) \n",
    "model.add(Dense(64)) \n",
    "model.add(BatchNormalization())\n",
    "model.add(Activation('relu')) \n",
    "model.add(Dropout(0.3))\n",
    "model.add(Dense(32))  \n",
    "model.add(BatchNormalization())\n",
    "model.add(Activation('relu'))\n",
    "model.add(Dropout(0.3)) \n",
    "model.add(Dense(16)) \n",
    "model.add(BatchNormalization())\n",
    "model.add(Activation('relu')) \n",
    "model.add(Dropout(0.2))  \n",
    "model.add(Dense(7,activation = 'softmax'))\n",
    "model.summary()"
   ]
  },
  {
   "cell_type": "code",
   "execution_count": 28,
   "id": "sexual-richardson",
   "metadata": {},
   "outputs": [],
   "source": [
    "model.compile(loss='categorical_crossentropy',optimizer='adam',metrics=['accuracy'])  "
   ]
  },
  {
   "cell_type": "code",
   "execution_count": 30,
   "id": "inclusive-saying",
   "metadata": {},
   "outputs": [
    {
     "name": "stdout",
     "output_type": "stream",
     "text": [
      "Train on 8928 samples, validate on 1960 samples\n",
      "Epoch 1/20\n",
      "8928/8928 [==============================] - 1s 81us/step - loss: 0.3879 - accuracy: 0.8697 - val_loss: 1.0494 - val_accuracy: 0.6408\n",
      "Epoch 2/20\n",
      "8928/8928 [==============================] - 1s 78us/step - loss: 0.3852 - accuracy: 0.8748 - val_loss: 0.4266 - val_accuracy: 0.8378\n",
      "Epoch 3/20\n",
      "8928/8928 [==============================] - 1s 80us/step - loss: 0.3766 - accuracy: 0.8744 - val_loss: 0.3878 - val_accuracy: 0.8842\n",
      "Epoch 4/20\n",
      "8928/8928 [==============================] - 1s 72us/step - loss: 0.3761 - accuracy: 0.8714 - val_loss: 0.5380 - val_accuracy: 0.7235\n",
      "Epoch 5/20\n",
      "8928/8928 [==============================] - 1s 70us/step - loss: 0.3833 - accuracy: 0.8702 - val_loss: 0.9129 - val_accuracy: 0.6031\n",
      "Epoch 6/20\n",
      "8928/8928 [==============================] - 1s 69us/step - loss: 0.3779 - accuracy: 0.8707 - val_loss: 0.5737 - val_accuracy: 0.7418\n",
      "Epoch 7/20\n",
      "8928/8928 [==============================] - 1s 76us/step - loss: 0.3879 - accuracy: 0.8688 - val_loss: 1.0909 - val_accuracy: 0.6648\n",
      "Epoch 8/20\n",
      "8928/8928 [==============================] - 1s 89us/step - loss: 0.3720 - accuracy: 0.8719 - val_loss: 0.7498 - val_accuracy: 0.6949\n",
      "Epoch 9/20\n",
      "8928/8928 [==============================] - 1s 73us/step - loss: 0.3813 - accuracy: 0.8732 - val_loss: 0.7051 - val_accuracy: 0.6918\n",
      "Epoch 10/20\n",
      "8928/8928 [==============================] - 1s 71us/step - loss: 0.3772 - accuracy: 0.8694 - val_loss: 0.5657 - val_accuracy: 0.7372\n",
      "Epoch 11/20\n",
      "8928/8928 [==============================] - 1s 74us/step - loss: 0.3809 - accuracy: 0.8772 - val_loss: 0.8000 - val_accuracy: 0.6332\n",
      "Epoch 12/20\n",
      "8928/8928 [==============================] - 1s 72us/step - loss: 0.3828 - accuracy: 0.8762 - val_loss: 1.1608 - val_accuracy: 0.6097\n",
      "Epoch 13/20\n",
      "8928/8928 [==============================] - 1s 72us/step - loss: 0.3815 - accuracy: 0.8720 - val_loss: 0.5521 - val_accuracy: 0.7230\n",
      "Epoch 14/20\n",
      "8928/8928 [==============================] - 1s 73us/step - loss: 0.3676 - accuracy: 0.8735 - val_loss: 0.6885 - val_accuracy: 0.7357\n",
      "Epoch 15/20\n",
      "8928/8928 [==============================] - 1s 75us/step - loss: 0.3804 - accuracy: 0.8754 - val_loss: 0.6726 - val_accuracy: 0.7143\n",
      "Epoch 16/20\n",
      "8928/8928 [==============================] - 1s 73us/step - loss: 0.3832 - accuracy: 0.8744 - val_loss: 0.5305 - val_accuracy: 0.7520\n",
      "Epoch 17/20\n",
      "8928/8928 [==============================] - 1s 73us/step - loss: 0.3779 - accuracy: 0.8747 - val_loss: 1.2456 - val_accuracy: 0.5730\n",
      "Epoch 18/20\n",
      "8928/8928 [==============================] - 1s 76us/step - loss: 0.3743 - accuracy: 0.8782 - val_loss: 0.4347 - val_accuracy: 0.7980\n",
      "Epoch 19/20\n",
      "8928/8928 [==============================] - 1s 73us/step - loss: 0.3750 - accuracy: 0.8757 - val_loss: 0.9150 - val_accuracy: 0.6250\n",
      "Epoch 20/20\n",
      "8928/8928 [==============================] - ETA: 0s - loss: 0.3799 - accuracy: 0.87 - 1s 73us/step - loss: 0.3826 - accuracy: 0.8723 - val_loss: 0.3842 - val_accuracy: 0.8515\n"
     ]
    }
   ],
   "source": [
    "history = model.fit(train_X, train_Y, \n",
    "                    batch_size = 64, \n",
    "                    epochs=20,    \n",
    "                    validation_split=0.18) "
   ]
  },
  {
   "cell_type": "markdown",
   "id": "collective-alias",
   "metadata": {},
   "source": [
    "### Total Epochs done: 720"
   ]
  },
  {
   "cell_type": "code",
   "execution_count": 34,
   "id": "cross-keyboard",
   "metadata": {},
   "outputs": [],
   "source": [
    "score, acc = model.evaluate(test_X, test_Y,batch_size=64, verbose=2)"
   ]
  },
  {
   "cell_type": "code",
   "execution_count": 35,
   "id": "miniature-denmark",
   "metadata": {},
   "outputs": [
    {
     "name": "stdout",
     "output_type": "stream",
     "text": [
      "Accuracy on Test Set:  0.8391479849815369\n"
     ]
    }
   ],
   "source": [
    "print(\"Accuracy on Test Set: \", acc) "
   ]
  },
  {
   "cell_type": "markdown",
   "id": "major-knowing",
   "metadata": {},
   "source": [
    "### Saving Model:"
   ]
  },
  {
   "cell_type": "code",
   "execution_count": 36,
   "id": "hollywood-pizza",
   "metadata": {},
   "outputs": [],
   "source": [
    "model.save(\"Bean_Classification_model\") "
   ]
  },
  {
   "cell_type": "code",
   "execution_count": 20,
   "id": "occasional-lighting",
   "metadata": {},
   "outputs": [
    {
     "data": {
      "image/png": "[encoded data removed]",
      "text/plain": [
       "<Figure size 432x288 with 1 Axes>"
      ]
     },
     "metadata": {},
     "output_type": "display_data"
    }
   ],
   "source": [
    "plt.style.use(\"ggplot\")\n",
    "plt.figure()\n",
    "plt.plot(history.history[\"accuracy\"], label=\"train_acc\")\n",
    "plt.plot(history.history[\"val_accuracy\"], label=\"val_acc\")\n",
    "plt.title(\"Training Loss and Accuracy\")\n",
    "plt.xlabel(\"Epoch #\")\n",
    "plt.ylabel(\"Loss/Accuracy\")\n",
    "plt.legend(loc=\"lower right\") \n",
    "plt.savefig(\"Accuracy plot.png\")"
   ]
  },
  {
   "cell_type": "code",
   "execution_count": null,
   "id": "forced-management",
   "metadata": {},
   "outputs": [],
   "source": []
  }
 ],
 "metadata": {
  "kernelspec": {
   "display_name": "Python 3",
   "language": "python",
   "name": "python3"
  },
  "language_info": {
   "codemirror_mode": {
    "name": "ipython",
    "version": 3
   },
   "file_extension": ".py",
   "mimetype": "text/x-python",
   "name": "python",
   "nbconvert_exporter": "python",
   "pygments_lexer": "ipython3",
   "version": "3.7.9"
  }
 },
 "nbformat": 4,
 "nbformat_minor": 5
}
