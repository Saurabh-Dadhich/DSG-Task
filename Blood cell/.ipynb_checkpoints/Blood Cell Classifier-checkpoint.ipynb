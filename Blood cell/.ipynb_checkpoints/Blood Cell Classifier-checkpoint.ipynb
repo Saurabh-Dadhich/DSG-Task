{
 "cells": [
  {
   "cell_type": "markdown",
   "id": "amino-melbourne",
   "metadata": {},
   "source": [
    "## Saurabh Dadhich\n",
    "### Indian Institute of Technology, Roorkee"
   ]
  },
  {
   "cell_type": "markdown",
   "id": "metric-birthday",
   "metadata": {},
   "source": [
    "## Blood Cell Classifier "
   ]
  },
  {
   "cell_type": "markdown",
   "id": "celtic-trader",
   "metadata": {},
   "source": [
    "### Importing required packages: "
   ]
  },
  {
   "cell_type": "code",
   "execution_count": 1,
   "id": "touched-thong",
   "metadata": {},
   "outputs": [
    {
     "name": "stderr",
     "output_type": "stream",
     "text": [
      "Using TensorFlow backend.\n"
     ]
    }
   ],
   "source": [
    "import numpy as np\n",
    "import matplotlib.pyplot as plt\n",
    "import os\n",
    "from tensorflow.keras.applications import VGG16\n",
    "from tensorflow.keras.layers import Dropout\n",
    "from tensorflow.keras.layers import Flatten\n",
    "from tensorflow.keras.layers import Dense \n",
    "from tensorflow.keras.layers import Input\n",
    "from tensorflow.keras.layers import BatchNormalization, Dropout, Activation\n",
    "from tensorflow.keras.models import Model \n",
    "from keras.preprocessing import image  \n",
    "from keras.applications.vgg16 import preprocess_input\n",
    "from tensorflow.keras.optimizers import Adam   \n",
    "from tensorflow.keras.utils import to_categorical\n",
    "from sklearn.utils import shuffle\n",
    "from sklearn.preprocessing import LabelBinarizer \n",
    "from sklearn.model_selection import train_test_split  "
   ]
  },
  {
   "cell_type": "markdown",
   "id": "deluxe-importance",
   "metadata": {},
   "source": [
    "### Data Preprocessing:  "
   ]
  },
  {
   "cell_type": "code",
   "execution_count": 2,
   "id": "subject-samoa",
   "metadata": {},
   "outputs": [
    {
     "name": "stderr",
     "output_type": "stream",
     "text": [
      "Clipping input data to the valid range for imshow with RGB data ([0..1] for floats or [0..255] for integers).\n"
     ]
    },
    {
     "name": "stdout",
     "output_type": "stream",
     "text": [
      "Test_image[0][0] before preprocess_input function:  [208. 213. 209.]\n",
      "Test_image[0][0] after preprocess_input function:  [105.061  96.221  84.32 ]\n"
     ]
    },
    {
     "data": {
      "image/png": "[encoded data removed]",
      "text/plain": [
       "<Figure size 432x288 with 1 Axes>"
      ]
     },
     "metadata": {
      "needs_background": "light"
     },
     "output_type": "display_data"
    }
   ],
   "source": [
    "test_image_path = r'F:\\DSG_IITR\\Blood cell\\dataset2-master\\dataset2-master\\images\\TEST_SIMPLE\\EOSINOPHIL\\_0_5239.jpeg'\n",
    "test_image = image.load_img(test_image_path,target_size=(224,224))\n",
    "test_image = image.img_to_array(test_image)\n",
    "print(\"Test_image[0][0] before preprocess_input function: \",test_image[0][0]) \n",
    "test_image = preprocess_input(test_image)\n",
    "print(\"Test_image[0][0] after preprocess_input function: \",test_image[0][0])\n",
    "plt.imshow(test_image)\n",
    "plt.show()"
   ]
  },
  {
   "cell_type": "markdown",
   "id": "suburban-baghdad",
   "metadata": {},
   "source": [
    "#### Creating data and Finding Labels:"
   ]
  },
  {
   "cell_type": "code",
   "execution_count": 3,
   "id": "abroad-village",
   "metadata": {},
   "outputs": [],
   "source": [
    "def data_loading(data_path):\n",
    "    images = []\n",
    "    labels = []\n",
    "    for folder in os.listdir(data_path):\n",
    "        if folder =='EOSINOPHIL': \n",
    "            label = 0\n",
    "        elif folder == 'LYMPHOCYTE': \n",
    "            label = 1\n",
    "        elif folder == 'MONOCYTE': \n",
    "            label = 2\n",
    "        elif folder == 'NEUTROPHIL': \n",
    "            label = 3\n",
    "        for file in os.listdir(os.path.join(data_path, folder)):\n",
    "            image_path    =  os.path.join(os.path.join(data_path,folder),file)\n",
    "            img           =  image.load_img(image_path,target_size=(224,224))\n",
    "            img           =  image.img_to_array(img)\n",
    "            img           =  preprocess_input(img)\n",
    "            images.append(img)\n",
    "            labels.append(label)\n",
    "            \n",
    "    images = np.array(images, dtype = 'float32')\n",
    "    labels = np.array(labels, dtype = 'int32')\n",
    "\n",
    "    return images, labels"
   ]
  },
  {
   "cell_type": "markdown",
   "id": "loved-olympus",
   "metadata": {},
   "source": [
    "### Train and Test folder path: "
   ]
  },
  {
   "cell_type": "code",
   "execution_count": 4,
   "id": "decimal-milan",
   "metadata": {},
   "outputs": [],
   "source": [
    "train_path = r\"dataset2-master\\dataset2-master\\images\\TRAIN\"\n",
    "test_path  = r\"dataset2-master\\dataset2-master\\images\\TEST\""
   ]
  },
  {
   "cell_type": "markdown",
   "id": "neither-surfing",
   "metadata": {},
   "source": [
    "### Loading Data: "
   ]
  },
  {
   "cell_type": "code",
   "execution_count": 5,
   "id": "mechanical-vertex",
   "metadata": {},
   "outputs": [],
   "source": [
    "train_data_X,train_data_Y = data_loading(train_path)\n",
    "test_data_X,test_data_Y = data_loading(test_path)"
   ]
  },
  {
   "cell_type": "markdown",
   "id": "agreed-arthur",
   "metadata": {},
   "source": [
    "### Shuffling data: "
   ]
  },
  {
   "cell_type": "code",
   "execution_count": 6,
   "id": "considered-forest",
   "metadata": {},
   "outputs": [],
   "source": [
    "train_data_X ,train_data_Y = shuffle(train_data_X,train_data_Y, random_state=2)\n",
    "test_data_X ,test_data_Y = shuffle(test_data_X,test_data_Y, random_state=2)"
   ]
  },
  {
   "cell_type": "markdown",
   "id": "spanish-commercial",
   "metadata": {},
   "source": [
    "### One-hot encoding: "
   ]
  },
  {
   "cell_type": "code",
   "execution_count": 7,
   "id": "announced-alignment",
   "metadata": {},
   "outputs": [
    {
     "name": "stdout",
     "output_type": "stream",
     "text": [
      "Train_data_Y shape:   (9957, 4)\n",
      "Train_data_Y[0]:\n",
      " [0 0 0 1]\n"
     ]
    }
   ],
   "source": [
    "lb = LabelBinarizer()                 # For labels\n",
    "train_y = lb.fit_transform(train_data_Y)\n",
    "print(\"Train_data_Y shape:  \",train_y.shape) \n",
    "print(\"Train_data_Y[0]:\\n\",train_y[0])  \n",
    "test_y = lb.fit_transform(test_data_Y) "
   ]
  },
  {
   "cell_type": "markdown",
   "id": "blond-station",
   "metadata": {},
   "source": [
    "### Train-Validation Split: "
   ]
  },
  {
   "cell_type": "code",
   "execution_count": 8,
   "id": "lightweight-consultancy",
   "metadata": {},
   "outputs": [],
   "source": [
    "(train_X, val_X, train_Y, val_Y) = train_test_split(train_data_X,train_y,test_size=0.20,shuffle=True, random_state=42)"
   ]
  },
  {
   "cell_type": "code",
   "execution_count": 9,
   "id": "objective-canvas",
   "metadata": {},
   "outputs": [],
   "source": [
    "test_X,test_Y = test_data_X,test_y"
   ]
  },
  {
   "cell_type": "code",
   "execution_count": 10,
   "id": "supreme-robinson",
   "metadata": {},
   "outputs": [
    {
     "name": "stdout",
     "output_type": "stream",
     "text": [
      "Shape of Train_X:   (7965, 224, 224, 3)\n",
      "Shape of Train_Y:   (7965, 4)\n",
      "Shape of Val_X:     (1992, 224, 224, 3)\n",
      "Shape of Val_Y:     (1992, 4)\n",
      "Shape of Test_X:    (2487, 224, 224, 3)\n",
      "Shape of Test_Y:    (2487, 4)\n"
     ]
    }
   ],
   "source": [
    "print(\"Shape of Train_X:  \",train_X.shape)\n",
    "print(\"Shape of Train_Y:  \",train_Y.shape)\n",
    "print(\"Shape of Val_X:    \",val_X.shape)\n",
    "print(\"Shape of Val_Y:    \",val_Y.shape)\n",
    "print(\"Shape of Test_X:   \",test_X.shape)\n",
    "print(\"Shape of Test_Y:   \",test_Y.shape)"
   ]
  },
  {
   "cell_type": "markdown",
   "id": "tamil-writing",
   "metadata": {},
   "source": [
    "### Model architecture: "
   ]
  },
  {
   "cell_type": "markdown",
   "id": "expanded-password",
   "metadata": {},
   "source": [
    "#### Transfer Learning: "
   ]
  },
  {
   "cell_type": "code",
   "execution_count": 11,
   "id": "electoral-texture",
   "metadata": {},
   "outputs": [],
   "source": [
    "base_model = VGG16(include_top = False,weights = 'imagenet', input_shape = train_X.shape[1:]) \n",
    "# include_top = false     ---> to remove last layers to use transfer learning  "
   ]
  },
  {
   "cell_type": "code",
   "execution_count": 12,
   "id": "expensive-dragon",
   "metadata": {},
   "outputs": [],
   "source": [
    "for layer in base_model.layers:\n",
    "    layer.trainable = False"
   ]
  },
  {
   "cell_type": "code",
   "execution_count": 13,
   "id": "invalid-fundamental",
   "metadata": {},
   "outputs": [],
   "source": [
    "head_model = Flatten()(base_model.output)\n",
    "head_model = Dropout(0.4)(head_model) \n",
    "head_model = Dense(256)(head_model)\n",
    "head_model = BatchNormalization()(head_model)\n",
    "head_model = Activation('relu')(head_model)\n",
    "head_model = Dropout(0.4)(head_model)\n",
    "head_model = Dense(128)(head_model)\n",
    "head_model = BatchNormalization()(head_model)\n",
    "head_model = Activation('relu')(head_model)\n",
    "head_model = Dropout(0.3)(head_model) \n",
    "head_model = Dense(4,activation = 'softmax')(head_model)\n",
    "\n",
    "\n",
    "model = Model(inputs = base_model.input, outputs = head_model) "
   ]
  },
  {
   "cell_type": "code",
   "execution_count": 14,
   "id": "brutal-plant",
   "metadata": {},
   "outputs": [
    {
     "name": "stdout",
     "output_type": "stream",
     "text": [
      "Model: \"model\"\n",
      "_________________________________________________________________\n",
      "Layer (type)                 Output Shape              Param #   \n",
      "=================================================================\n",
      "input_1 (InputLayer)         [(None, 224, 224, 3)]     0         \n",
      "_________________________________________________________________\n",
      "block1_conv1 (Conv2D)        (None, 224, 224, 64)      1792      \n",
      "_________________________________________________________________\n",
      "block1_conv2 (Conv2D)        (None, 224, 224, 64)      36928     \n",
      "_________________________________________________________________\n",
      "block1_pool (MaxPooling2D)   (None, 112, 112, 64)      0         \n",
      "_________________________________________________________________\n",
      "block2_conv1 (Conv2D)        (None, 112, 112, 128)     73856     \n",
      "_________________________________________________________________\n",
      "block2_conv2 (Conv2D)        (None, 112, 112, 128)     147584    \n",
      "_________________________________________________________________\n",
      "block2_pool (MaxPooling2D)   (None, 56, 56, 128)       0         \n",
      "_________________________________________________________________\n",
      "block3_conv1 (Conv2D)        (None, 56, 56, 256)       295168    \n",
      "_________________________________________________________________\n",
      "block3_conv2 (Conv2D)        (None, 56, 56, 256)       590080    \n",
      "_________________________________________________________________\n",
      "block3_conv3 (Conv2D)        (None, 56, 56, 256)       590080    \n",
      "_________________________________________________________________\n",
      "block3_pool (MaxPooling2D)   (None, 28, 28, 256)       0         \n",
      "_________________________________________________________________\n",
      "block4_conv1 (Conv2D)        (None, 28, 28, 512)       1180160   \n",
      "_________________________________________________________________\n",
      "block4_conv2 (Conv2D)        (None, 28, 28, 512)       2359808   \n",
      "_________________________________________________________________\n",
      "block4_conv3 (Conv2D)        (None, 28, 28, 512)       2359808   \n",
      "_________________________________________________________________\n",
      "block4_pool (MaxPooling2D)   (None, 14, 14, 512)       0         \n",
      "_________________________________________________________________\n",
      "block5_conv1 (Conv2D)        (None, 14, 14, 512)       2359808   \n",
      "_________________________________________________________________\n",
      "block5_conv2 (Conv2D)        (None, 14, 14, 512)       2359808   \n",
      "_________________________________________________________________\n",
      "block5_conv3 (Conv2D)        (None, 14, 14, 512)       2359808   \n",
      "_________________________________________________________________\n",
      "block5_pool (MaxPooling2D)   (None, 7, 7, 512)         0         \n",
      "_________________________________________________________________\n",
      "flatten (Flatten)            (None, 25088)             0         \n",
      "_________________________________________________________________\n",
      "dropout (Dropout)            (None, 25088)             0         \n",
      "_________________________________________________________________\n",
      "dense (Dense)                (None, 256)               6422784   \n",
      "_________________________________________________________________\n",
      "batch_normalization (BatchNo (None, 256)               1024      \n",
      "_________________________________________________________________\n",
      "activation (Activation)      (None, 256)               0         \n",
      "_________________________________________________________________\n",
      "dropout_1 (Dropout)          (None, 256)               0         \n",
      "_________________________________________________________________\n",
      "dense_1 (Dense)              (None, 128)               32896     \n",
      "_________________________________________________________________\n",
      "batch_normalization_1 (Batch (None, 128)               512       \n",
      "_________________________________________________________________\n",
      "activation_1 (Activation)    (None, 128)               0         \n",
      "_________________________________________________________________\n",
      "dropout_2 (Dropout)          (None, 128)               0         \n",
      "_________________________________________________________________\n",
      "dense_2 (Dense)              (None, 4)                 516       \n",
      "=================================================================\n",
      "Total params: 21,172,420\n",
      "Trainable params: 6,456,964\n",
      "Non-trainable params: 14,715,456\n",
      "_________________________________________________________________\n"
     ]
    }
   ],
   "source": [
    "model.summary()"
   ]
  },
  {
   "cell_type": "code",
   "execution_count": 15,
   "id": "chief-brand",
   "metadata": {},
   "outputs": [],
   "source": [
    "model.compile(optimizer='adam',loss='categorical_crossentropy',metrics=['accuracy'])"
   ]
  },
  {
   "cell_type": "markdown",
   "id": "adult-equipment",
   "metadata": {},
   "source": [
    "### Fitting model: "
   ]
  },
  {
   "cell_type": "code",
   "execution_count": null,
   "id": "apart-environment",
   "metadata": {},
   "outputs": [
    {
     "name": "stdout",
     "output_type": "stream",
     "text": [
      "Train on 7965 samples, validate on 1992 samples\n"
     ]
    }
   ],
   "source": [
    "his = model.fit(train_X, train_Y, batch_size = 32, epochs =30,validation_data = (val_X, val_Y))  "
   ]
  },
  {
   "cell_type": "code",
   "execution_count": null,
   "id": "ef1c8697",
   "metadata": {},
   "outputs": [],
   "source": [
    "_,acc = model.evaluate(test_X,test_Y)"
   ]
  },
  {
   "cell_type": "markdown",
   "id": "4bacee7e",
   "metadata": {},
   "source": [
    "### Getting \"Kernel Died\" while running model.fit() ,  tried many ways to deal with this problem but unable to find a solution but this is how I will approach the project (Blood cell Classification).    \n",
    "##### I was using anaconda - Jupyter Notebook"
   ]
  },
  {
   "cell_type": "code",
   "execution_count": null,
   "id": "659c1a52",
   "metadata": {},
   "outputs": [],
   "source": []
  }
 ],
 "metadata": {
  "kernelspec": {
   "display_name": "Python 3",
   "language": "python",
   "name": "python3"
  },
  "language_info": {
   "codemirror_mode": {
    "name": "ipython",
    "version": 3
   },
   "file_extension": ".py",
   "mimetype": "text/x-python",
   "name": "python",
   "nbconvert_exporter": "python",
   "pygments_lexer": "ipython3",
   "version": "3.7.10"
  }
 },
 "nbformat": 4,
 "nbformat_minor": 5
}
